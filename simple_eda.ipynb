{
 "cells": [
  {
   "cell_type": "code",
   "execution_count": 98,
   "id": "abc24bf8",
   "metadata": {},
   "outputs": [],
   "source": [
    "import pandas as pd\n",
    "import numpy as np\n",
    "from statsmodels.stats.inter_rater import fleiss_kappa\n",
    "from glob import glob\n",
    "import matplotlib.pyplot as plt"
   ]
  },
  {
   "cell_type": "markdown",
   "id": "dc678dd7",
   "metadata": {},
   "source": [
    "## Оценка качества аннотаторов\n",
    "\n",
    "Я хочу посчитать IAA (Inter-annotator agreement)\n",
    "\n",
    "Если у данных нет reviewer-а, буду считать общее качество разметки аннотаторов относительно друг друга\n",
    "\n",
    "Для этого подходит, например, [Fleiss Kappa](https://en.wikipedia.org/wiki/Fleiss%27_kappa#Worked_example)"
   ]
  },
  {
   "cell_type": "code",
   "execution_count": 199,
   "id": "b7814555",
   "metadata": {},
   "outputs": [
    {
     "data": {
      "text/html": [
       "<div>\n",
       "<style scoped>\n",
       "    .dataframe tbody tr th:only-of-type {\n",
       "        vertical-align: middle;\n",
       "    }\n",
       "\n",
       "    .dataframe tbody tr th {\n",
       "        vertical-align: top;\n",
       "    }\n",
       "\n",
       "    .dataframe thead th {\n",
       "        text-align: right;\n",
       "    }\n",
       "</style>\n",
       "<table border=\"1\" class=\"dataframe\">\n",
       "  <thead>\n",
       "    <tr style=\"text-align: right;\">\n",
       "      <th></th>\n",
       "      <th>text</th>\n",
       "      <th>extra_info</th>\n",
       "      <th>results</th>\n",
       "      <th>task_type</th>\n",
       "      <th>dataset_id</th>\n",
       "      <th>Null</th>\n",
       "      <th>task_id</th>\n",
       "    </tr>\n",
       "  </thead>\n",
       "  <tbody>\n",
       "    <tr>\n",
       "      <th>0</th>\n",
       "      <td>Предпосылка: Девушка с зонтов шумит возле вход...</td>\n",
       "      <td>{'id': 0}</td>\n",
       "      <td>[{'user_id': 62296154, 'value': {'value': '169...</td>\n",
       "      <td>text</td>\n",
       "      <td>512.0</td>\n",
       "      <td>NaN</td>\n",
       "      <td>NaN</td>\n",
       "    </tr>\n",
       "    <tr>\n",
       "      <th>1</th>\n",
       "      <td>Предпосылка: Маленький мальчик катается на вел...</td>\n",
       "      <td>{'id': 1}</td>\n",
       "      <td>[{'user_id': 313883831, 'value': {'value': '16...</td>\n",
       "      <td>text</td>\n",
       "      <td>512.0</td>\n",
       "      <td>NaN</td>\n",
       "      <td>NaN</td>\n",
       "    </tr>\n",
       "    <tr>\n",
       "      <th>2</th>\n",
       "      <td>Предпосылка: Наука основана на эмпирических да...</td>\n",
       "      <td>{'id': 3}</td>\n",
       "      <td>[{'user_id': 142862059, 'value': {'value': '16...</td>\n",
       "      <td>text</td>\n",
       "      <td>512.0</td>\n",
       "      <td>NaN</td>\n",
       "      <td>18876.0</td>\n",
       "    </tr>\n",
       "    <tr>\n",
       "      <th>3</th>\n",
       "      <td>Предпосылка: Молодой человек в спортивной форм...</td>\n",
       "      <td>{'id': 4}</td>\n",
       "      <td>[{'user_id': 132477092, 'value': {'value': '16...</td>\n",
       "      <td>text</td>\n",
       "      <td>512.0</td>\n",
       "      <td>NaN</td>\n",
       "      <td>18876.0</td>\n",
       "    </tr>\n",
       "    <tr>\n",
       "      <th>4</th>\n",
       "      <td>Предпосылка: Мужчина сидит на диване смотря на...</td>\n",
       "      <td>{'id': 5}</td>\n",
       "      <td>[{'user_id': 132954861, 'value': {'value': '16...</td>\n",
       "      <td>text</td>\n",
       "      <td>512.0</td>\n",
       "      <td>NaN</td>\n",
       "      <td>18876.0</td>\n",
       "    </tr>\n",
       "  </tbody>\n",
       "</table>\n",
       "</div>"
      ],
      "text/plain": [
       "                                                text extra_info  \\\n",
       "0  Предпосылка: Девушка с зонтов шумит возле вход...  {'id': 0}   \n",
       "1  Предпосылка: Маленький мальчик катается на вел...  {'id': 1}   \n",
       "2  Предпосылка: Наука основана на эмпирических да...  {'id': 3}   \n",
       "3  Предпосылка: Молодой человек в спортивной форм...  {'id': 4}   \n",
       "4  Предпосылка: Мужчина сидит на диване смотря на...  {'id': 5}   \n",
       "\n",
       "                                             results task_type  dataset_id  \\\n",
       "0  [{'user_id': 62296154, 'value': {'value': '169...      text       512.0   \n",
       "1  [{'user_id': 313883831, 'value': {'value': '16...      text       512.0   \n",
       "2  [{'user_id': 142862059, 'value': {'value': '16...      text       512.0   \n",
       "3  [{'user_id': 132477092, 'value': {'value': '16...      text       512.0   \n",
       "4  [{'user_id': 132954861, 'value': {'value': '16...      text       512.0   \n",
       "\n",
       "   Null  task_id  \n",
       "0   NaN      NaN  \n",
       "1   NaN      NaN  \n",
       "2   NaN  18876.0  \n",
       "3   NaN  18876.0  \n",
       "4   NaN  18876.0  "
      ]
     },
     "execution_count": 199,
     "metadata": {},
     "output_type": "execute_result"
    }
   ],
   "source": [
    "data = pd.DataFrame({})\n",
    "\n",
    "# Просто стакаю все train-ы в один dataframe\n",
    "for path in sorted(glob('data/VKT-930-???.json')):\n",
    "    data = pd.concat((a, pd.read_json(path)))\n",
    "    \n",
    "data.head(5)"
   ]
  },
  {
   "cell_type": "code",
   "execution_count": 202,
   "id": "caa81ed2",
   "metadata": {
    "scrolled": false
   },
   "outputs": [
    {
     "name": "stdout",
     "output_type": "stream",
     "text": [
      "[3. 4. 5. 6. 7.] [75559    87     5     1     1]\n"
     ]
    }
   ],
   "source": [
    "def annotations_count(sample, f=None, user_id=None, exclude_user_id=None):\n",
    "    # Считаю число различных аннотаций для семпла\n",
    "    counts = [0, 0, 0]\n",
    "    for a in sample:\n",
    "        # Юзеры, которых я хочу дропнуть\n",
    "        if exclude_user_id is not None and a['user_id'] in exclude_user_id:\n",
    "            continue\n",
    "        if user_id is None or a['user_id'] == user_id:\n",
    "            if a['value']['text'] == 'Логическое следование':\n",
    "                counts[0] += 1\n",
    "            elif a['value']['text'] == 'Нейтральная взаимосвязь':\n",
    "                counts[1] += 1\n",
    "            elif a['value']['text'] == 'Противоречие':\n",
    "                counts[2] += 1\n",
    "            # Если хоть одна метка \"Плохой пример\", то дропаю этой семпл\n",
    "            elif a['value']['text'] == 'Плохой пример':\n",
    "                return None\n",
    "            \n",
    "    # Применяю функцию\n",
    "    if f is not None:\n",
    "        return f(counts)\n",
    "    \n",
    "    return counts\n",
    "        \n",
    "    \n",
    "ann_per_samle = data['results'].apply(lambda x: annotations_count(x, f=np.sum))\n",
    "ann_per_samle = ann_per_samle.dropna()\n",
    "values, counts = np.unique(ann_per_samle, return_counts=True)\n",
    "print(values, counts)\n",
    "\n",
    "# ~99% 3 аннотации на семпл"
   ]
  },
  {
   "cell_type": "code",
   "execution_count": 297,
   "id": "2b90e89d",
   "metadata": {},
   "outputs": [
    {
     "name": "stdout",
     "output_type": "stream",
     "text": [
      "[0. 1. 2.] [21431 32722 21500]\n"
     ]
    }
   ],
   "source": [
    "# Посмотрим на распределение классов\n",
    "ann_argmax = data['results'].apply(lambda x: annotations_count(x, f=np.argmax))\n",
    "ann_argmax = ann_argmax.dropna()\n",
    "values, counts = np.unique(ann_per_samle, return_counts=True)\n",
    "print(values, counts)\n",
    "# 'Логическое следование', 'Нейтральная взаимосвязь', 'Противоречие'"
   ]
  },
  {
   "cell_type": "markdown",
   "id": "bc6ff5c3",
   "metadata": {},
   "source": [
    "Для оценки каждого аннотатора буду смотреть, какая доля его ответов совпадает с мнением большинства (при условии существования большинства).\n",
    "\n",
    "Допустим, все аннотаторы отвечают случайно и для каждого семпла 3 ответа. Тогда при пропуске семплов, аннотации которых не содержат максимума - [1, 1, 1], значение разметки для конкретного аннотатора будет совпадать с максимумом в ~72% случаев (Учитывая распределение классов, а при равномерном распределении в 71%). Код ниже, доказательство руками пока не считал. Тогда мы точно можем удалить из датасета разметку аннотаторов, не проходящих этот трешхолд."
   ]
  },
  {
   "cell_type": "code",
   "execution_count": 314,
   "id": "cf77d1e8",
   "metadata": {
    "scrolled": true
   },
   "outputs": [
    {
     "name": "stdout",
     "output_type": "stream",
     "text": [
      "[False  True] [22341 56888]\n",
      "0.7180199169496018\n"
     ]
    }
   ],
   "source": [
    "def random_check():\n",
    "    p = [21431.0, 32722, 21500]\n",
    "    p /= np.sum(p)\n",
    "    arr = np.random.choice(np.arange(3), size=3, p=p)\n",
    "    counts = [0, 0, 0]\n",
    "    for item in arr:\n",
    "        counts[item] += 1\n",
    "\n",
    "    x = arr[0]\n",
    "    if ambiguity(counts):\n",
    "        return None\n",
    "    \n",
    "    return np.argmax(counts) == x\n",
    "\n",
    "a = []\n",
    "for k in range(100000):\n",
    "    res = random_check()\n",
    "    if res is not None:\n",
    "        a.append(res)\n",
    "        \n",
    "values, counts = np.unique(a, return_counts=True)\n",
    "print(values, counts)\n",
    "print(counts[1] / np.sum(counts))"
   ]
  },
  {
   "cell_type": "code",
   "execution_count": 206,
   "id": "2ec02789",
   "metadata": {
    "scrolled": true
   },
   "outputs": [],
   "source": [
    "# Для получения списка аннотаторов\n",
    "def get_annotators(sample):\n",
    "    ann = []\n",
    "    for a in sample:\n",
    "        ann.append(a['user_id'])\n",
    "        \n",
    "    return ann\n",
    "\n",
    "# Проверяю, есть ли выраженный максимум\n",
    "def ambiguity(counts):\n",
    "    return not np.max(counts) > np.sum(counts) // 2\n",
    "    \n",
    "# Проверяю для семпла и аннотатора, согласен ли он с мнением большинства\n",
    "def user_inconsistency(sample, user_id):\n",
    "    counts = annotations_count(sample)\n",
    "    user_counts = annotations_count(sample, user_id=user_id)\n",
    "    \n",
    "    if counts is None or user_counts is None:\n",
    "        return None\n",
    "    \n",
    "    if np.sum(user_counts) == 0 or ambiguity(counts):\n",
    "        return None\n",
    "    \n",
    "    return np.argmax(counts) != np.argmax(user_counts)\n",
    "\n",
    "\n",
    "# Получаю аннотаторов\n",
    "annotators = list(data['results'].apply(lambda x: get_annotators(x)))\n",
    "annotators = np.unique(np.concatenate(annotators))\n",
    "\n",
    "# Для каждого считаю долю семплов, в которых он согласен с большинством\n",
    "scores = []\n",
    "\n",
    "for ann in annotators:\n",
    "    annotation_counts = data['results'].apply(lambda x: user_inconsistency(x, user_id=ann))\n",
    "    annotation_counts = annotation_counts.dropna()\n",
    "    values, counts = np.unique(annotation_counts, return_counts=True)\n",
    "    counts = np.round(counts / len(annotation_counts), 2)\n",
    "    \n",
    "    scores.append((ann, counts[0]))\n",
    "    \n",
    "scores = sorted(scores, key=lambda x: x[1])\n",
    "\n",
    "# Оставляю только id в порядке возрастания согласованности\n",
    "annonator_ids = []\n",
    "for k in range(len(scores)):\n",
    "    annonator_ids.append(scores[k][0])"
   ]
  },
  {
   "cell_type": "code",
   "execution_count": 295,
   "id": "f5e016c9",
   "metadata": {
    "scrolled": true
   },
   "outputs": [
    {
     "data": {
      "text/plain": [
       "[(322467706, 0.52),\n",
       " (209935302, 0.6),\n",
       " (592811653, 0.65),\n",
       " (374774459, 0.7),\n",
       " (179483767, 0.73),\n",
       " (749097, 0.75),\n",
       " (422248376, 0.76),\n",
       " (611288574, 0.77),\n",
       " (212577011, 0.78),\n",
       " (121963394, 0.79)]"
      ]
     },
     "execution_count": 295,
     "metadata": {},
     "output_type": "execute_result"
    }
   ],
   "source": [
    "# Первых 4 точно можно удалять из датасета\n",
    "scores[:10]"
   ]
  },
  {
   "cell_type": "code",
   "execution_count": 212,
   "id": "0faa8c68",
   "metadata": {
    "scrolled": true
   },
   "outputs": [],
   "source": [
    "# Если 2 аннотации на семпл и есть выраженный максимум, дополню для 3\n",
    "# Если >3, то дропаю\n",
    "# Необходимо для расcчета fleiss_kappa\n",
    "def make_triplet(counts):\n",
    "    if np.sum(counts) == 2 and np.max(counts) == 2:\n",
    "        counts[np.argmax(counts)] = 3\n",
    "        return counts\n",
    "    if np.sum(counts) == 3:\n",
    "        return counts\n",
    "\n",
    "    return None\n",
    "\n",
    "\n",
    "# Буду удалять по аннотатору из данных для k худших аннотаторов\n",
    "# Для полученных значений считаю метрику fleiss_kappa \n",
    "low_k = 60 # всего 105\n",
    "fk_scores = []\n",
    "data_sizes = []\n",
    "data_len = None\n",
    "\n",
    "for k in range(low_k):\n",
    "    ann_rates = data['results'].apply(lambda x: annotations_count(x, f=make_triplet,\n",
    "                                exclude_user_id=annonator_ids[:k]))\n",
    "    ann_rates = ann_rates.dropna()\n",
    "    fk = fleiss_kappa(np.array(list(ann_rates)))\n",
    "    fk_scores.append(fk)\n",
    "    if data_len is None:\n",
    "        data_len = len(ann_rates)\n",
    "    # Считаю на сколько процентов уменьшается датасет от начального\n",
    "    data_sizes.append((1 - len(ann_rates) / data_len) * -100)"
   ]
  },
  {
   "cell_type": "code",
   "execution_count": 213,
   "id": "1fbfda1b",
   "metadata": {
    "scrolled": false
   },
   "outputs": [
    {
     "data": {
      "text/plain": [
       "Text(0, 0.5, '% data loss')"
      ]
     },
     "execution_count": 213,
     "metadata": {},
     "output_type": "execute_result"
    },
    {
     "data": {
      "image/png": "[encoded data removed]",
      "text/plain": [
       "<Figure size 600x600 with 1 Axes>"
      ]
     },
     "metadata": {
      "needs_background": "light"
     },
     "output_type": "display_data"
    }
   ],
   "source": [
    "plt.figure(figsize=(6, 6), dpi=100)\n",
    "\n",
    "plt.scatter(fk_scores, data_sizes)\n",
    "plt.xlabel('fleiss kappa')\n",
    "plt.ylabel('% data loss')"
   ]
  },
  {
   "cell_type": "markdown",
   "id": "26b1f633",
   "metadata": {},
   "source": [
    "Получаем фронт паретто (если в данном случае такая формулировка подходит). Можем выбрать оптимальное соотношение между IAA и потерей данных. "
   ]
  }
 ],
 "metadata": {
  "kernelspec": {
   "display_name": "Python 3 (ipykernel)",
   "language": "python",
   "name": "python3"
  },
  "language_info": {
   "codemirror_mode": {
    "name": "ipython",
    "version": 3
   },
   "file_extension": ".py",
   "mimetype": "text/x-python",
   "name": "python",
   "nbconvert_exporter": "python",
   "pygments_lexer": "ipython3",
   "version": "3.10.12"
  }
 },
 "nbformat": 4,
 "nbformat_minor": 5
}
